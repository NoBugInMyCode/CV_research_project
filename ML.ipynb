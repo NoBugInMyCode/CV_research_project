{
 "cells": [
  {
   "cell_type": "code",
   "execution_count": 1,
   "metadata": {},
   "outputs": [],
   "source": [
    "import pandas as pd\n",
    "from sklearn.model_selection import train_test_split\n",
    "import tensorflow as tf\n",
    "from tensorflow import keras\n",
    "from tensorflow.keras import layers"
   ]
  },
  {
   "cell_type": "code",
   "execution_count": 9,
   "metadata": {},
   "outputs": [
    {
     "data": {
      "text/html": [
       "<div>\n",
       "<style scoped>\n",
       "    .dataframe tbody tr th:only-of-type {\n",
       "        vertical-align: middle;\n",
       "    }\n",
       "\n",
       "    .dataframe tbody tr th {\n",
       "        vertical-align: top;\n",
       "    }\n",
       "\n",
       "    .dataframe thead th {\n",
       "        text-align: right;\n",
       "    }\n",
       "</style>\n",
       "<table border=\"1\" class=\"dataframe\">\n",
       "  <thead>\n",
       "    <tr style=\"text-align: right;\">\n",
       "      <th></th>\n",
       "      <th>0</th>\n",
       "      <th>1</th>\n",
       "      <th>2</th>\n",
       "      <th>3</th>\n",
       "      <th>4</th>\n",
       "      <th>5</th>\n",
       "      <th>6</th>\n",
       "    </tr>\n",
       "  </thead>\n",
       "  <tbody>\n",
       "    <tr>\n",
       "      <th>0</th>\n",
       "      <td>7.20</td>\n",
       "      <td>12.30</td>\n",
       "      <td>18.87</td>\n",
       "      <td>42.02</td>\n",
       "      <td>6.14</td>\n",
       "      <td>25.52</td>\n",
       "      <td>0</td>\n",
       "    </tr>\n",
       "    <tr>\n",
       "      <th>1</th>\n",
       "      <td>11.36</td>\n",
       "      <td>10.46</td>\n",
       "      <td>21.99</td>\n",
       "      <td>22.59</td>\n",
       "      <td>22.09</td>\n",
       "      <td>64.97</td>\n",
       "      <td>1</td>\n",
       "    </tr>\n",
       "    <tr>\n",
       "      <th>2</th>\n",
       "      <td>8.12</td>\n",
       "      <td>8.40</td>\n",
       "      <td>6.70</td>\n",
       "      <td>12.67</td>\n",
       "      <td>13.92</td>\n",
       "      <td>14.20</td>\n",
       "      <td>0</td>\n",
       "    </tr>\n",
       "    <tr>\n",
       "      <th>3</th>\n",
       "      <td>28.96</td>\n",
       "      <td>11.06</td>\n",
       "      <td>17.60</td>\n",
       "      <td>40.36</td>\n",
       "      <td>23.71</td>\n",
       "      <td>39.91</td>\n",
       "      <td>1</td>\n",
       "    </tr>\n",
       "    <tr>\n",
       "      <th>4</th>\n",
       "      <td>36.72</td>\n",
       "      <td>35.99</td>\n",
       "      <td>33.29</td>\n",
       "      <td>32.10</td>\n",
       "      <td>12.10</td>\n",
       "      <td>21.12</td>\n",
       "      <td>1</td>\n",
       "    </tr>\n",
       "    <tr>\n",
       "      <th>...</th>\n",
       "      <td>...</td>\n",
       "      <td>...</td>\n",
       "      <td>...</td>\n",
       "      <td>...</td>\n",
       "      <td>...</td>\n",
       "      <td>...</td>\n",
       "      <td>...</td>\n",
       "    </tr>\n",
       "    <tr>\n",
       "      <th>999995</th>\n",
       "      <td>32.91</td>\n",
       "      <td>13.67</td>\n",
       "      <td>35.62</td>\n",
       "      <td>119.69</td>\n",
       "      <td>13.81</td>\n",
       "      <td>52.39</td>\n",
       "      <td>1</td>\n",
       "    </tr>\n",
       "    <tr>\n",
       "      <th>999996</th>\n",
       "      <td>15.26</td>\n",
       "      <td>21.69</td>\n",
       "      <td>20.63</td>\n",
       "      <td>45.90</td>\n",
       "      <td>25.07</td>\n",
       "      <td>45.23</td>\n",
       "      <td>1</td>\n",
       "    </tr>\n",
       "    <tr>\n",
       "      <th>999997</th>\n",
       "      <td>38.96</td>\n",
       "      <td>8.38</td>\n",
       "      <td>34.08</td>\n",
       "      <td>12.14</td>\n",
       "      <td>10.56</td>\n",
       "      <td>14.09</td>\n",
       "      <td>0</td>\n",
       "    </tr>\n",
       "    <tr>\n",
       "      <th>999998</th>\n",
       "      <td>42.02</td>\n",
       "      <td>80.13</td>\n",
       "      <td>19.48</td>\n",
       "      <td>23.22</td>\n",
       "      <td>14.88</td>\n",
       "      <td>29.38</td>\n",
       "      <td>1</td>\n",
       "    </tr>\n",
       "    <tr>\n",
       "      <th>999999</th>\n",
       "      <td>37.79</td>\n",
       "      <td>22.94</td>\n",
       "      <td>24.42</td>\n",
       "      <td>24.53</td>\n",
       "      <td>23.76</td>\n",
       "      <td>40.80</td>\n",
       "      <td>1</td>\n",
       "    </tr>\n",
       "  </tbody>\n",
       "</table>\n",
       "<p>1000000 rows × 7 columns</p>\n",
       "</div>"
      ],
      "text/plain": [
       "            0      1      2       3      4      5  6\n",
       "0        7.20  12.30  18.87   42.02   6.14  25.52  0\n",
       "1       11.36  10.46  21.99   22.59  22.09  64.97  1\n",
       "2        8.12   8.40   6.70   12.67  13.92  14.20  0\n",
       "3       28.96  11.06  17.60   40.36  23.71  39.91  1\n",
       "4       36.72  35.99  33.29   32.10  12.10  21.12  1\n",
       "...       ...    ...    ...     ...    ...    ... ..\n",
       "999995  32.91  13.67  35.62  119.69  13.81  52.39  1\n",
       "999996  15.26  21.69  20.63   45.90  25.07  45.23  1\n",
       "999997  38.96   8.38  34.08   12.14  10.56  14.09  0\n",
       "999998  42.02  80.13  19.48   23.22  14.88  29.38  1\n",
       "999999  37.79  22.94  24.42   24.53  23.76  40.80  1\n",
       "\n",
       "[1000000 rows x 7 columns]"
      ]
     },
     "execution_count": 9,
     "metadata": {},
     "output_type": "execute_result"
    }
   ],
   "source": [
    "data = pd.read_csv(\"CW_project4.txt\", sep=\" \", header=None)\n",
    "data = data.drop(columns=6, axis=1)\n",
    "data = data.rename(columns={7:6})\n",
    "data\n"
   ]
  },
  {
   "cell_type": "code",
   "execution_count": 10,
   "metadata": {},
   "outputs": [],
   "source": [
    "X = data.iloc[:, :-1].values\n",
    "y = data.iloc[:, -1].values"
   ]
  },
  {
   "cell_type": "code",
   "execution_count": 11,
   "metadata": {},
   "outputs": [],
   "source": [
    "X_train, X_test, y_train, y_test = train_test_split(X, y, test_size=0.2, random_state=42)"
   ]
  },
  {
   "cell_type": "code",
   "execution_count": 12,
   "metadata": {},
   "outputs": [],
   "source": [
    "model = keras.Sequential([\n",
    "    layers.Dense(128, activation='relu', input_shape=(6,)),\n",
    "    layers.Dense(64, activation='relu'),\n",
    "    layers.Dense(1, activation='sigmoid')\n",
    "])"
   ]
  },
  {
   "cell_type": "code",
   "execution_count": 13,
   "metadata": {},
   "outputs": [],
   "source": [
    "model.compile(optimizer='adam', loss='binary_crossentropy', metrics=['accuracy'])"
   ]
  },
  {
   "cell_type": "code",
   "execution_count": 14,
   "metadata": {},
   "outputs": [
    {
     "name": "stdout",
     "output_type": "stream",
     "text": [
      "Epoch 1/10\n",
      "20000/20000 [==============================] - 109s 5ms/step - loss: 0.1166 - accuracy: 0.9570 - val_loss: 0.0837 - val_accuracy: 0.9699\n",
      "Epoch 2/10\n",
      "20000/20000 [==============================] - 74s 4ms/step - loss: 0.0866 - accuracy: 0.9681 - val_loss: 0.0826 - val_accuracy: 0.9697\n",
      "Epoch 3/10\n",
      "20000/20000 [==============================] - 75s 4ms/step - loss: 0.0832 - accuracy: 0.9692 - val_loss: 0.0807 - val_accuracy: 0.9707\n",
      "Epoch 4/10\n",
      "20000/20000 [==============================] - 75s 4ms/step - loss: 0.0813 - accuracy: 0.9701 - val_loss: 0.0789 - val_accuracy: 0.9711\n",
      "Epoch 5/10\n",
      "20000/20000 [==============================] - 75s 4ms/step - loss: 0.0803 - accuracy: 0.9703 - val_loss: 0.0784 - val_accuracy: 0.9713\n",
      "Epoch 6/10\n",
      "20000/20000 [==============================] - 75s 4ms/step - loss: 0.0797 - accuracy: 0.9706 - val_loss: 0.0789 - val_accuracy: 0.9712\n",
      "Epoch 7/10\n",
      "20000/20000 [==============================] - 74s 4ms/step - loss: 0.0791 - accuracy: 0.9707 - val_loss: 0.0819 - val_accuracy: 0.9697\n",
      "Epoch 8/10\n",
      "20000/20000 [==============================] - 74s 4ms/step - loss: 0.0784 - accuracy: 0.9711 - val_loss: 0.0765 - val_accuracy: 0.9722\n",
      "Epoch 9/10\n",
      "20000/20000 [==============================] - 74s 4ms/step - loss: 0.0780 - accuracy: 0.9712 - val_loss: 0.0766 - val_accuracy: 0.9722\n",
      "Epoch 10/10\n",
      "20000/20000 [==============================] - 74s 4ms/step - loss: 0.0776 - accuracy: 0.9715 - val_loss: 0.0760 - val_accuracy: 0.9726\n"
     ]
    },
    {
     "data": {
      "text/plain": [
       "<keras.callbacks.History at 0x201df5ed910>"
      ]
     },
     "execution_count": 14,
     "metadata": {},
     "output_type": "execute_result"
    }
   ],
   "source": [
    "model.fit(X_train, y_train, epochs=10, batch_size=32, validation_split=0.2)"
   ]
  }
 ],
 "metadata": {
  "kernelspec": {
   "display_name": "Python 3 (ipykernel)",
   "language": "python",
   "name": "python3"
  },
  "language_info": {
   "codemirror_mode": {
    "name": "ipython",
    "version": 3
   },
   "file_extension": ".py",
   "mimetype": "text/x-python",
   "name": "python",
   "nbconvert_exporter": "python",
   "pygments_lexer": "ipython3",
   "version": "3.8.17"
  },
  "orig_nbformat": 4
 },
 "nbformat": 4,
 "nbformat_minor": 2
}
